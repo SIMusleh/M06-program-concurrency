{
 "cells": [
  {
   "cell_type": "code",
   "execution_count": null,
   "id": "96b3846f",
   "metadata": {},
   "outputs": [],
   "source": [
    "#13.1\n",
    "from datetime import datetime\n",
    "\n",
    "# get current date as string\n",
    "today = datetime.today().strftime('%Y-%m-%d')\n",
    "\n",
    "# write to file\n",
    "with open('today.txt', 'w') as f:\n",
    "    f.write(today)"
   ]
  },
  {
   "cell_type": "code",
   "execution_count": null,
   "id": "417c66b9",
   "metadata": {},
   "outputs": [],
   "source": [
    "#13.2\n",
    "with open('today.txt', 'r') as f:\n",
    "    today_string = f.read()"
   ]
  },
  {
   "cell_type": "code",
   "execution_count": null,
   "id": "b9e55fdd",
   "metadata": {},
   "outputs": [],
   "source": [
    "#13.3\n",
    "from datetime import datetime\n",
    "\n",
    "today_date = datetime.strptime(today_string, '%Y-%m-%d').date()\n"
   ]
  },
  {
   "cell_type": "code",
   "execution_count": null,
   "id": "c543c431",
   "metadata": {},
   "outputs": [],
   "source": [
    "#15.1\n",
    "import multiprocessing\n",
    "import random\n",
    "import time\n",
    "from datetime import datetime\n",
    "\n",
    "def worker():\n",
    "    # wait for a random number of seconds between 0 and 1\n",
    "    time.sleep(random.random())\n",
    "    \n",
    "    # print current time\n",
    "    print(datetime.now().strftime(\"%H:%M:%S\"))\n",
    "    \n",
    "if __name__ == '__main__':\n",
    "    # create three processes\n",
    "    processes = [multiprocessing.Process(target=worker) for _ in range(3)]\n",
    "    \n",
    "    # start processes\n",
    "    for p in processes:\n",
    "        p.start()\n",
    "    \n",
    "    # wait for processes to finish\n",
    "    for p in processes:\n",
    "        p.join()\n"
   ]
  }
 ],
 "metadata": {
  "kernelspec": {
   "display_name": "Python 3 (ipykernel)",
   "language": "python",
   "name": "python3"
  },
  "language_info": {
   "codemirror_mode": {
    "name": "ipython",
    "version": 3
   },
   "file_extension": ".py",
   "mimetype": "text/x-python",
   "name": "python",
   "nbconvert_exporter": "python",
   "pygments_lexer": "ipython3",
   "version": "3.10.9"
  }
 },
 "nbformat": 4,
 "nbformat_minor": 5
}
